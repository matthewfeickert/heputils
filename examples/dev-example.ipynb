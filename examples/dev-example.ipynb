{
 "cells": [
  {
   "cell_type": "markdown",
   "metadata": {},
   "source": [
    "# Development examples"
   ]
  },
  {
   "cell_type": "code",
   "execution_count": null,
   "metadata": {},
   "outputs": [],
   "source": [
    "import numpy as np\n",
    "import uproot\n",
    "import matplotlib.pyplot as plt\n",
    "import heputils\n",
    "\n",
    "heputils.plot.set_style(\"ATLAS\")\n",
    "heputils.plot.set_experiment_info(status=\"Internal\")  # Internal, Preliminary, Public\n",
    "heputils.plot.set_experiment_info(\n",
    "    center_of_mass_energy=13, center_of_mass_energy_units=\"TeV\"\n",
    ")  # Default values\n",
    "heputils.plot.set_experiment_info(\n",
    "    luminosity=132, luminosity_units=\"fb\"\n",
    ")  # Default values"
   ]
  },
  {
   "cell_type": "code",
   "execution_count": null,
   "metadata": {},
   "outputs": [],
   "source": [
    "root_file = uproot.open(\"example.root\")\n",
    "root_hists = [root_file[key].to_hist() for key in root_file.keys()]\n",
    "data_hist = root_hists[-1]\n",
    "simulation_hists = root_hists[:-1]"
   ]
  },
  {
   "cell_type": "code",
   "execution_count": null,
   "metadata": {},
   "outputs": [],
   "source": [
    "labels = [r\"$t\\bar{t}$\", r\"$W+$jets\", \"Other\", \"Signal\"]\n",
    "colormap = [\"darkorange\", \"steelblue\", \"firebrick\", \"purple\"]\n",
    "\n",
    "scale_factors = np.ones(len(simulation_hists))\n",
    "scale_factors[-1] = 5"
   ]
  },
  {
   "cell_type": "code",
   "execution_count": null,
   "metadata": {},
   "outputs": [],
   "source": [
    "ax = heputils.plot.stack_hist(\n",
    "    simulation_hists,\n",
    "    labels=labels,\n",
    "    color=colormap,\n",
    "    xlabel=r\"$X$ Mass [GeV]\",\n",
    "    ylabel=\"Count\",\n",
    "    scale_factors=scale_factors,\n",
    ")\n",
    "ax = heputils.plot.data_hist(data_hist, ax=ax);"
   ]
  },
  {
   "cell_type": "code",
   "execution_count": null,
   "metadata": {},
   "outputs": [],
   "source": [
    "import mplhep\n",
    "import matplotlib.gridspec as gridspec\n",
    "\n",
    "simulation_stack = heputils.utils.sum_hists(simulation_hists)\n",
    "\n",
    "\n",
    "def ratio_plot(hist_nums, hist_denom, ax):\n",
    "    hist_nums = hist_nums if isinstance(hist_nums, list) else [hist_nums]\n",
    "    ratio_hist = [num_hist / hist_denom for num_hist in hist_nums]\n",
    "\n",
    "    #     mplhep.histplot(ratio_hist, label=\"ratio\", ax=ax)\n",
    "    mplhep.histplot(ratio_hist, ax=ax)\n",
    "    central_value = 1.0\n",
    "    y_range = 0.5\n",
    "    #     ax.axhline(central_value, color=\"black\", label=\"data\")\n",
    "    ax.axhline(central_value, color=\"black\")\n",
    "    ax.set_ylim(central_value - y_range, central_value + y_range)\n",
    "    ax.set_xlabel(r\"$X$ Mass [GeV]\")\n",
    "    ax.set_ylabel(\"Simulation/Data\")\n",
    "    #     ax.legend(loc=\"best\")\n",
    "\n",
    "    #     fig = ax.figure\n",
    "    #     fig_width, fig_height = heputils.plot.get_style()[\"figure.figsize\"]\n",
    "    #     fig.set_size_inches(fig_width, 0.8*fig_height)\n",
    "\n",
    "    return ax\n",
    "\n",
    "\n",
    "_fig_width, _fig_height = heputils.plot.get_style()[\"figure.figsize\"]\n",
    "# fig, axs = plt.subplots(2, 1, figsize=(_fig_size[0], 2.2* _fig_size[1]))\n",
    "fig = plt.figure(figsize=(_fig_width, 1.5 * _fig_height))\n",
    "gs = gridspec.GridSpec(2, 1, height_ratios=[3.5, 1])\n",
    "ax0 = plt.subplot(gs[0])\n",
    "ax1 = plt.subplot(gs[1])\n",
    "# fig, axs = plt.subplots(gs, figsize=(_fig_size[0], 2.2* _fig_size[1]))\n",
    "\n",
    "ax0 = heputils.plot.stack_hist(\n",
    "    simulation_hists,\n",
    "    labels=labels,\n",
    "    color=colormap,\n",
    "    #     xlabel=r\"$X$ Mass [GeV]\",\n",
    "    ylabel=\"Count\",\n",
    "    data_hist=data_hist,\n",
    "    ax=ax0,\n",
    ")\n",
    "_ratio_plot = ratio_plot(simulation_stack, data_hist, ax=ax1)\n",
    "fig.tight_layout()"
   ]
  },
  {
   "cell_type": "code",
   "execution_count": null,
   "metadata": {},
   "outputs": [],
   "source": [
    "ax.figure.savefig(\"example_stack.png\")"
   ]
  },
  {
   "cell_type": "markdown",
   "metadata": {},
   "source": [
    "Can also give the data histogram directly to `heputils.plot.stack_hist`"
   ]
  },
  {
   "cell_type": "code",
   "execution_count": null,
   "metadata": {},
   "outputs": [],
   "source": [
    "ax, artists = heputils.plot.stack_hist(\n",
    "    simulation_hists,\n",
    "    labels=labels,\n",
    "    color=colormap,\n",
    "    xlabel=r\"$X$ Mass [GeV]\",\n",
    "    ylabel=\"Count\",\n",
    "    data_hist=data_hist,\n",
    "    logy=False,\n",
    "    return_artists=True,\n",
    ")"
   ]
  },
  {
   "cell_type": "markdown",
   "metadata": {},
   "source": [
    "Can easily plot on a `subplots` grid"
   ]
  },
  {
   "cell_type": "code",
   "execution_count": null,
   "metadata": {},
   "outputs": [],
   "source": [
    "_fig_size = heputils.plot.get_style()[\"figure.figsize\"]\n",
    "fig, axs = plt.subplots(1, 2, figsize=(2.1 * _fig_size[0], _fig_size[1]))\n",
    "\n",
    "axs[0] = heputils.plot.stack_hist(\n",
    "    simulation_hists,\n",
    "    labels=labels,\n",
    "    color=colormap,\n",
    "    xlabel=r\"$X$ Mass [GeV]\",\n",
    "    ylabel=\"Count\",\n",
    "    data_hist=data_hist,\n",
    "    ax=axs[0],\n",
    ")\n",
    "axs[1] = heputils.plot.stack_hist(\n",
    "    simulation_hists,\n",
    "    labels=labels,\n",
    "    color=colormap,\n",
    "    xlabel=r\"$X$ Mass [GeV]\",\n",
    "    ylabel=\"Count\",\n",
    "    data_hist=data_hist,\n",
    "    logy=False,\n",
    "    ax=axs[1],\n",
    ")"
   ]
  },
  {
   "cell_type": "code",
   "execution_count": null,
   "metadata": {},
   "outputs": [],
   "source": [
    "_fig_size = heputils.plot.get_style()[\"figure.figsize\"]\n",
    "fig, axs = plt.subplots(1, 2, figsize=(2.1 * _fig_size[0], _fig_size[1]))\n",
    "\n",
    "axs[0] = heputils.plot.shape_hist(\n",
    "    simulation_hists,\n",
    "    data_hist=data_hist,\n",
    "    labels=labels,\n",
    "    color=colormap,\n",
    "    xlabel=r\"$X$ Mass [GeV]\",\n",
    "    ylabel=\"Count\",\n",
    "    ax=axs[0],\n",
    ")\n",
    "axs[1] = heputils.plot.shape_hist(\n",
    "    simulation_hists,\n",
    "    data_hist=data_hist,\n",
    "    labels=labels,\n",
    "    color=colormap,\n",
    "    xlabel=r\"$X$ Mass [GeV]\",\n",
    "    ylabel=\"Count\",\n",
    "    logy=True,\n",
    "    density=False,\n",
    "    ax=axs[1],\n",
    ")"
   ]
  },
  {
   "cell_type": "markdown",
   "metadata": {},
   "source": [
    "For a shape plot you can also easily switch between a `fill` style (shaded) and a `step` style (lines) using the `histtype` kwarg"
   ]
  },
  {
   "cell_type": "code",
   "execution_count": null,
   "metadata": {},
   "outputs": [],
   "source": [
    "_fig_size = heputils.plot.get_style()[\"figure.figsize\"]\n",
    "fig, axs = plt.subplots(1, 2, figsize=(2.1 * _fig_size[0], _fig_size[1]))\n",
    "\n",
    "axs[0] = heputils.plot.shape_hist(\n",
    "    simulation_hists,\n",
    "    data_hist=data_hist,\n",
    "    labels=labels,\n",
    "    color=colormap,\n",
    "    histtype=\"step\",\n",
    "    xlabel=r\"$X$ Mass [GeV]\",\n",
    "    ylabel=\"Count\",\n",
    "    ax=axs[0],\n",
    ")\n",
    "axs[1] = heputils.plot.shape_hist(\n",
    "    simulation_hists,\n",
    "    data_hist=data_hist,\n",
    "    labels=labels,\n",
    "    color=colormap,\n",
    "    histtype=\"step\",\n",
    "    xlabel=r\"$X$ Mass [GeV]\",\n",
    "    ylabel=\"Count\",\n",
    "    logy=True,\n",
    "    density=False,\n",
    "    ax=axs[1],\n",
    ")"
   ]
  },
  {
   "cell_type": "code",
   "execution_count": null,
   "metadata": {},
   "outputs": [],
   "source": [
    "stacked_hist = heputils.utils.sum_hists(simulation_hists)\n",
    "stacked_hist.plot();"
   ]
  },
  {
   "cell_type": "code",
   "execution_count": null,
   "metadata": {},
   "outputs": [],
   "source": [
    "stacked_hist"
   ]
  }
 ],
 "metadata": {
  "kernelspec": {
   "display_name": "Python 3",
   "language": "python",
   "name": "python3"
  },
  "language_info": {
   "codemirror_mode": {
    "name": "ipython",
    "version": 3
   },
   "file_extension": ".py",
   "mimetype": "text/x-python",
   "name": "python",
   "nbconvert_exporter": "python",
   "pygments_lexer": "ipython3",
   "version": "3.8.6"
  }
 },
 "nbformat": 4,
 "nbformat_minor": 4
}
